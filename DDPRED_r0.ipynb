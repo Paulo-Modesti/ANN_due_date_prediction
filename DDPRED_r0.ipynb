{
 "cells": [
  {
   "cell_type": "code",
   "execution_count": null,
   "metadata": {},
   "outputs": [],
   "source": [
    "import numpy as np"
   ]
  },
  {
   "cell_type": "code",
   "execution_count": 2,
   "metadata": {},
   "outputs": [],
   "source": [
    "import tensorflow as tf"
   ]
  },
  {
   "cell_type": "code",
   "execution_count": 3,
   "metadata": {},
   "outputs": [],
   "source": [
    "import pandas as pd"
   ]
  },
  {
   "cell_type": "code",
   "execution_count": 4,
   "metadata": {},
   "outputs": [
    {
     "name": "stdout",
     "output_type": "stream",
     "text": [
      "Train on 1553 samples\n",
      "Epoch 1/100\n",
      "1553/1553 [==============================] - 4s 2ms/sample - loss: 173.6033\n",
      "Epoch 2/100\n",
      "1553/1553 [==============================] - 1s 408us/sample - loss: 151.8307\n",
      "Epoch 3/100\n",
      "1553/1553 [==============================] - 1s 416us/sample - loss: 149.4234\n",
      "Epoch 4/100\n",
      "1553/1553 [==============================] - 1s 434us/sample - loss: 140.1969\n",
      "Epoch 5/100\n",
      "1553/1553 [==============================] - 1s 403us/sample - loss: 141.4039\n",
      "Epoch 6/100\n",
      "1553/1553 [==============================] - 1s 460us/sample - loss: 143.8160\n",
      "Epoch 7/100\n",
      "1553/1553 [==============================] - 1s 462us/sample - loss: 137.7137\n",
      "Epoch 8/100\n",
      "1553/1553 [==============================] - 1s 503us/sample - loss: 131.7922\n",
      "Epoch 9/100\n",
      "1553/1553 [==============================] - 1s 448us/sample - loss: 136.4799\n",
      "Epoch 10/100\n",
      "1553/1553 [==============================] - 2s 1ms/sample - loss: 131.3113\n",
      "Epoch 11/100\n",
      "1553/1553 [==============================] - 1s 586us/sample - loss: 131.2968\n",
      "Epoch 12/100\n",
      "1553/1553 [==============================] - 1s 501us/sample - loss: 132.8176\n",
      "Epoch 13/100\n",
      "1553/1553 [==============================] - 1s 612us/sample - loss: 127.9680\n",
      "Epoch 14/100\n",
      "1553/1553 [==============================] - 1s 882us/sample - loss: 124.2096\n",
      "Epoch 15/100\n",
      "1553/1553 [==============================] - 1s 388us/sample - loss: 126.9909\n",
      "Epoch 16/100\n",
      "1553/1553 [==============================] - 1s 500us/sample - loss: 123.3319\n",
      "Epoch 17/100\n",
      "1553/1553 [==============================] - 1s 633us/sample - loss: 126.8127\n",
      "Epoch 18/100\n",
      "1553/1553 [==============================] - 1s 504us/sample - loss: 121.8141\n",
      "Epoch 19/100\n",
      "1553/1553 [==============================] - 1s 497us/sample - loss: 121.8540\n",
      "Epoch 20/100\n",
      "1553/1553 [==============================] - 1s 491us/sample - loss: 121.2194\n",
      "Epoch 21/100\n",
      "1553/1553 [==============================] - 1s 666us/sample - loss: 119.5334\n",
      "Epoch 22/100\n",
      "1553/1553 [==============================] - 1s 503us/sample - loss: 119.1986\n",
      "Epoch 23/100\n",
      "1553/1553 [==============================] - 1s 480us/sample - loss: 122.0915\n",
      "Epoch 24/100\n",
      "1553/1553 [==============================] - 1s 547us/sample - loss: 117.3005\n",
      "Epoch 25/100\n",
      "1553/1553 [==============================] - 1s 653us/sample - loss: 117.2917\n",
      "Epoch 26/100\n",
      "1553/1553 [==============================] - 1s 495us/sample - loss: 115.3796\n",
      "Epoch 27/100\n",
      "1553/1553 [==============================] - 1s 828us/sample - loss: 113.8453\n",
      "Epoch 28/100\n",
      "1553/1553 [==============================] - 1s 759us/sample - loss: 118.4045\n",
      "Epoch 29/100\n",
      "1553/1553 [==============================] - 1s 739us/sample - loss: 113.4037\n",
      "Epoch 30/100\n",
      "1553/1553 [==============================] - 1s 492us/sample - loss: 109.0604\n",
      "Epoch 31/100\n",
      "1553/1553 [==============================] - 1s 653us/sample - loss: 109.2066\n",
      "Epoch 32/100\n",
      "1553/1553 [==============================] - 1s 465us/sample - loss: 107.9923\n",
      "Epoch 33/100\n",
      "1553/1553 [==============================] - 1s 416us/sample - loss: 109.8621\n",
      "Epoch 34/100\n",
      "1553/1553 [==============================] - 1s 423us/sample - loss: 108.2552\n",
      "Epoch 35/100\n",
      "1553/1553 [==============================] - 1s 421us/sample - loss: 104.1371\n",
      "Epoch 36/100\n",
      "1553/1553 [==============================] - 1s 407us/sample - loss: 102.6122\n",
      "Epoch 37/100\n",
      "1553/1553 [==============================] - 1s 716us/sample - loss: 104.0667\n",
      "Epoch 38/100\n",
      "1553/1553 [==============================] - 1s 479us/sample - loss: 102.9048\n",
      "Epoch 39/100\n",
      "1553/1553 [==============================] - 1s 510us/sample - loss: 100.0198\n",
      "Epoch 40/100\n",
      "1553/1553 [==============================] - 1s 450us/sample - loss: 97.7761\n",
      "Epoch 41/100\n",
      "1553/1553 [==============================] - 1s 445us/sample - loss: 101.1988\n",
      "Epoch 42/100\n",
      "1553/1553 [==============================] - 1s 814us/sample - loss: 100.3582\n",
      "Epoch 43/100\n",
      "1553/1553 [==============================] - 1s 825us/sample - loss: 95.7480\n",
      "Epoch 44/100\n",
      "1553/1553 [==============================] - 1s 436us/sample - loss: 91.3797\n",
      "Epoch 45/100\n",
      "1553/1553 [==============================] - 1s 600us/sample - loss: 94.2925\n",
      "Epoch 46/100\n",
      "1553/1553 [==============================] - 1s 465us/sample - loss: 90.8463\n",
      "Epoch 47/100\n",
      "1553/1553 [==============================] - 1s 450us/sample - loss: 92.9844\n",
      "Epoch 48/100\n",
      "1553/1553 [==============================] - 1s 435us/sample - loss: 93.6612\n",
      "Epoch 49/100\n",
      "1553/1553 [==============================] - 1s 739us/sample - loss: 88.6196\n",
      "Epoch 50/100\n",
      "1553/1553 [==============================] - 1s 478us/sample - loss: 85.5237\n",
      "Epoch 51/100\n",
      "1553/1553 [==============================] - 1s 461us/sample - loss: 85.7411\n",
      "Epoch 52/100\n",
      "1553/1553 [==============================] - 1s 423us/sample - loss: 84.5282\n",
      "Epoch 53/100\n",
      "1553/1553 [==============================] - 1s 456us/sample - loss: 90.8304\n",
      "Epoch 54/100\n",
      "1553/1553 [==============================] - 1s 484us/sample - loss: 86.4668\n",
      "Epoch 55/100\n",
      "1553/1553 [==============================] - 1s 449us/sample - loss: 85.4873\n",
      "Epoch 56/100\n",
      "1553/1553 [==============================] - 1s 523us/sample - loss: 80.3364\n",
      "Epoch 57/100\n",
      "1553/1553 [==============================] - 1s 465us/sample - loss: 82.0022\n",
      "Epoch 58/100\n",
      "1553/1553 [==============================] - 1s 520us/sample - loss: 80.4656\n",
      "Epoch 59/100\n",
      "1553/1553 [==============================] - 1s 534us/sample - loss: 83.3539\n",
      "Epoch 60/100\n",
      "1553/1553 [==============================] - 1s 583us/sample - loss: 77.0739\n",
      "Epoch 61/100\n",
      "1553/1553 [==============================] - 1s 502us/sample - loss: 79.0736\n",
      "Epoch 62/100\n",
      "1553/1553 [==============================] - 1s 543us/sample - loss: 77.6257\n",
      "Epoch 63/100\n",
      "1553/1553 [==============================] - 1s 474us/sample - loss: 73.8665\n",
      "Epoch 64/100\n",
      "1553/1553 [==============================] - 1s 485us/sample - loss: 71.2871\n",
      "Epoch 65/100\n",
      "1553/1553 [==============================] - 1s 492us/sample - loss: 74.5777\n",
      "Epoch 66/100\n",
      "1553/1553 [==============================] - 1s 541us/sample - loss: 76.4576\n",
      "Epoch 67/100\n",
      "1553/1553 [==============================] - 1s 708us/sample - loss: 71.2247\n",
      "Epoch 68/100\n",
      "1553/1553 [==============================] - 1s 825us/sample - loss: 70.7073\n",
      "Epoch 69/100\n",
      "1553/1553 [==============================] - 1s 471us/sample - loss: 68.7836\n",
      "Epoch 70/100\n",
      "1553/1553 [==============================] - 1s 517us/sample - loss: 68.3205\n",
      "Epoch 71/100\n",
      "1553/1553 [==============================] - 1s 493us/sample - loss: 64.9070\n",
      "Epoch 72/100\n",
      "1553/1553 [==============================] - 1s 463us/sample - loss: 65.0211\n",
      "Epoch 73/100\n",
      "1553/1553 [==============================] - 1s 518us/sample - loss: 63.7366\n",
      "Epoch 74/100\n",
      "1553/1553 [==============================] - 1s 516us/sample - loss: 63.5216\n",
      "Epoch 75/100\n",
      "1553/1553 [==============================] - 1s 471us/sample - loss: 62.8853\n",
      "Epoch 76/100\n",
      "1553/1553 [==============================] - 1s 506us/sample - loss: 65.9275\n",
      "Epoch 77/100\n",
      "1553/1553 [==============================] - 1s 512us/sample - loss: 60.1003\n",
      "Epoch 78/100\n",
      "1553/1553 [==============================] - 1s 567us/sample - loss: 68.2697\n",
      "Epoch 79/100\n",
      "1553/1553 [==============================] - 1s 502us/sample - loss: 60.9293\n",
      "Epoch 80/100\n",
      "1553/1553 [==============================] - 1s 509us/sample - loss: 57.9802\n",
      "Epoch 81/100\n",
      "1553/1553 [==============================] - 1s 519us/sample - loss: 55.0479\n",
      "Epoch 82/100\n",
      "1553/1553 [==============================] - 1s 548us/sample - loss: 57.0166\n",
      "Epoch 83/100\n",
      "1553/1553 [==============================] - 1s 782us/sample - loss: 57.7292\n",
      "Epoch 84/100\n",
      "1553/1553 [==============================] - 1s 891us/sample - loss: 56.6877\n",
      "Epoch 85/100\n",
      "1553/1553 [==============================] - 1s 519us/sample - loss: 56.0879\n",
      "Epoch 86/100\n",
      "1553/1553 [==============================] - 1s 514us/sample - loss: 52.5475\n",
      "Epoch 87/100\n",
      "1553/1553 [==============================] - 1s 541us/sample - loss: 52.1313\n",
      "Epoch 88/100\n",
      "1553/1553 [==============================] - 1s 551us/sample - loss: 48.6053\n",
      "Epoch 89/100\n",
      "1553/1553 [==============================] - 1s 541us/sample - loss: 49.8746\n",
      "Epoch 90/100\n",
      "1553/1553 [==============================] - 1s 554us/sample - loss: 59.2480\n",
      "Epoch 91/100\n",
      "1553/1553 [==============================] - 1s 428us/sample - loss: 50.2128\n",
      "Epoch 92/100\n",
      "1553/1553 [==============================] - 1s 531us/sample - loss: 49.7673\n",
      "Epoch 93/100\n",
      "1553/1553 [==============================] - 1s 460us/sample - loss: 50.3478\n",
      "Epoch 94/100\n",
      "1553/1553 [==============================] - 1s 519us/sample - loss: 49.1572\n",
      "Epoch 95/100\n",
      "1553/1553 [==============================] - 1s 442us/sample - loss: 46.0951\n",
      "Epoch 96/100\n",
      "1553/1553 [==============================] - 1s 438us/sample - loss: 43.2425\n",
      "Epoch 97/100\n",
      "1553/1553 [==============================] - 1s 440us/sample - loss: 46.8687\n",
      "Epoch 98/100\n",
      "1553/1553 [==============================] - 1s 489us/sample - loss: 50.1473\n",
      "Epoch 99/100\n",
      "1553/1553 [==============================] - 1s 507us/sample - loss: 47.1490\n",
      "Epoch 100/100\n",
      "1553/1553 [==============================] - 1s 499us/sample - loss: 41.6452\n"
     ]
    },
    {
     "data": {
      "text/plain": [
       "<tensorflow.python.keras.callbacks.History at 0x7ff15f6eaed0>"
      ]
     },
     "execution_count": 4,
     "metadata": {},
     "output_type": "execute_result"
    }
   ],
   "source": [
    "dataset = pd.read_excel(r'Db8.xlsx')\n",
    "X = dataset.iloc[:, :-1].values\n",
    "y = dataset.iloc[:, -1].values\n",
    "from sklearn.model_selection import train_test_split\n",
    "X_train, X_test, y_train, y_test = train_test_split(X, y, test_size = 0.2, random_state = 0)\n",
    "ann = tf.keras.models.Sequential()\n",
    "ann.add(tf.keras.layers.Dense(units=192, activation='relu'))\n",
    "ann.add(tf.keras.layers.Dense(units=192, activation='relu'))\n",
    "ann.add(tf.keras.layers.Dense(units=192, activation='relu'))\n",
    "ann.add(tf.keras.layers.Dense(units=192, activation='relu'))\n",
    "ann.add(tf.keras.layers.Dense(units=1))\n",
    "ann.compile(optimizer = 'adam', loss = 'mean_squared_error')\n",
    "ann.fit(X_train, y_train, batch_size = 32, epochs = 100)"
   ]
  },
  {
   "cell_type": "code",
   "execution_count": 5,
   "metadata": {},
   "outputs": [
    {
     "name": "stdout",
     "output_type": "stream",
     "text": [
      "Para conhecer a previsão de entrega da tarefa solicitada informe os dados solicitados:\n",
      "  \n",
      "Quantidade de peças da tarefa:\n",
      "  \n",
      "2\n"
     ]
    }
   ],
   "source": [
    "valores = [9, 1, 10, 48, 4, 10.21, 1.73, 6.17, 4.04]\n",
    "print('Para conhecer a previsão de entrega da tarefa solicitada informe os dados solicitados:')\n",
    "print('  ')\n",
    "print('Quantidade de peças da tarefa:')\n",
    "print('  ')\n",
    "qt = int(input())\n",
    "X_test[388][0] = int(qt)"
   ]
  },
  {
   "cell_type": "code",
   "execution_count": 6,
   "metadata": {},
   "outputs": [
    {
     "name": "stdout",
     "output_type": "stream",
     "text": [
      "  \n",
      "Tamanho da peça sendo: \n",
      "   1 = pequenas peças\n",
      "   2 = peças médias\n",
      "   3 = peças grandes\n",
      "  \n",
      "2\n"
     ]
    }
   ],
   "source": [
    "print('  ')\n",
    "print('Tamanho da peça sendo: ')\n",
    "print('   1 = pequenas peças')\n",
    "print('   2 = peças médias')\n",
    "print('   3 = peças grandes')\n",
    "print('  ')\n",
    "tm = int(input())\n",
    "X_test[388][1] = int(tm)"
   ]
  },
  {
   "cell_type": "code",
   "execution_count": 7,
   "metadata": {},
   "outputs": [
    {
     "name": "stdout",
     "output_type": "stream",
     "text": [
      "  \n",
      "Complexidade da tarefa sendo: \n",
      "   1 = simples\n",
      "   2 = média\n",
      "   3 = complexa\n",
      "  \n",
      "2\n"
     ]
    }
   ],
   "source": [
    "print('  ')\n",
    "print('Complexidade da tarefa sendo: ')\n",
    "print('   1 = simples')\n",
    "print('   2 = média')\n",
    "print('   3 = complexa')\n",
    "print('  ')\n",
    "cx = int(input())\n",
    "X_test[388][2] = int(cx)"
   ]
  },
  {
   "cell_type": "code",
   "execution_count": 8,
   "metadata": {},
   "outputs": [
    {
     "name": "stdout",
     "output_type": "stream",
     "text": [
      "  \n",
      "Material da peça sendo:\n",
      "   1 = Renshape / ABS / Acrílico / EPS\n",
      "   2 = Aluminio / Latão / Cobre\n",
      "   3 = Aço carbono / Inoxidável / Teflon / Poliacetal\n",
      "  \n",
      "2\n"
     ]
    }
   ],
   "source": [
    "print('  ')\n",
    "print('Material da peça sendo:')\n",
    "print('   1 = Renshape / ABS / Acrílico / EPS')\n",
    "print('   2 = Aluminio / Latão / Cobre')\n",
    "print('   3 = Aço carbono / Inoxidável / Teflon / Poliacetal')\n",
    "print('  ')\n",
    "mt = int(input())\n",
    "X_test[388][3] = int(mt)"
   ]
  },
  {
   "cell_type": "code",
   "execution_count": 9,
   "metadata": {},
   "outputs": [
    {
     "name": "stdout",
     "output_type": "stream",
     "text": [
      "  \n",
      "Número de operações a serem realizadas, considerando:\n",
      "   1 = Operação usinagem (CNC)\n",
      "   2 = Operação usinagem (CNC) + Acabamento (bancada)\n",
      "  \n",
      "2\n",
      "  \n"
     ]
    }
   ],
   "source": [
    "print('  ')\n",
    "print('Número de operações a serem realizadas, considerando:')\n",
    "print('   1 = Operação usinagem (CNC)')\n",
    "print('   2 = Operação usinagem (CNC) + Acabamento (bancada)')\n",
    "print('  ')\n",
    "no = int(input())\n",
    "print('  ')\n",
    "X_test[388][4] = int(no)"
   ]
  },
  {
   "cell_type": "code",
   "execution_count": 10,
   "metadata": {},
   "outputs": [
    {
     "name": "stdout",
     "output_type": "stream",
     "text": [
      "   \n",
      "O prazo para entrega de sua tarefa é 18 dias.\n"
     ]
    }
   ],
   "source": [
    "y_pred = ann.predict(X_test)\n",
    "np.set_printoptions(precision=0)\n",
    "p = (np.concatenate((y_pred.reshape(len(y_pred),1), y_test.reshape(len(y_test),1)), 1))\n",
    "pred = y_pred[388]\n",
    "print('   ')\n",
    "print('O prazo para entrega de sua tarefa é {0} dias.'.format(int(pred)))"
   ]
  },
  {
   "cell_type": "code",
   "execution_count": null,
   "metadata": {},
   "outputs": [],
   "source": []
  }
 ],
 "metadata": {
  "kernelspec": {
   "display_name": "Python 3",
   "language": "python",
   "name": "python3"
  },
  "language_info": {
   "codemirror_mode": {
    "name": "ipython",
    "version": 3
   },
   "file_extension": ".py",
   "mimetype": "text/x-python",
   "name": "python",
   "nbconvert_exporter": "python",
   "pygments_lexer": "ipython3",
   "version": "3.7.7"
  }
 },
 "nbformat": 4,
 "nbformat_minor": 4
}
